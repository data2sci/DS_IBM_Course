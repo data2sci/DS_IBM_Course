{
 "cells": [
  {
   "cell_type": "markdown",
   "id": "e12a220f-b304-4b37-8502-a367bbd186c1",
   "metadata": {},
   "source": [
    "# Data Science Tools and Ecosystem"
   ]
  },
  {
   "cell_type": "markdown",
   "id": "c64c39be-57a0-46a7-99fc-5e9d0983a7f6",
   "metadata": {},
   "source": [
    "In this notebook, Data Science Tools and Ecosystem are summarized."
   ]
  },
  {
   "cell_type": "markdown",
   "id": "6c01413e-a9bd-4afb-84ad-df080b4402f9",
   "metadata": {},
   "source": [
    "**Objectives:**\n",
    "- Use Header Style\n",
    "- Create Markdown and Code cells\n",
    "- Add an ordered list to markdown cell\n",
    "- Create a table\n",
    "- Write an arithmetic expression\n"
   ]
  },
  {
   "cell_type": "markdown",
   "id": "4f7617ca-61a4-482f-ab4d-be9bde4776c7",
   "metadata": {},
   "source": [
    "Some of the popular languages that Data Scientists use are:\n",
    "1. Python\n",
    "2. R\n",
    "3. Julia\n",
    "4. Scala\n",
    "5. Java\n",
    "6. Ruby"
   ]
  },
  {
   "cell_type": "markdown",
   "id": "38669fbb-6e5f-4e47-b8a6-f409da127f1a",
   "metadata": {},
   "source": [
    "Some of the commonly used libraries used by Data Scientists include:\n",
    "1. Pandas\n",
    "2. Numpy\n",
    "3. Matplotlib\n",
    "4. Seaborn\n",
    "5. Scikit-learn\n",
    "6. Keras"
   ]
  },
  {
   "cell_type": "markdown",
   "id": "4c7d3c21-f569-489e-a6f3-d6e35c60b95b",
   "metadata": {},
   "source": [
    "|Data Science Tools|\n",
    "|------------------|\n",
    "|Python|\n",
    "|Jupyter Notebook|\n",
    "|Apache Spark|\n",
    "|Tensor Flow|\n",
    "|R|\n",
    "|ggplot2|\n"
   ]
  },
  {
   "cell_type": "markdown",
   "id": "95ca0c60-72ad-4de4-aa16-634ac0a228cb",
   "metadata": {
    "tags": []
   },
   "source": [
    "### Below are a few examples of evaluating arithmetic expressions in Python"
   ]
  },
  {
   "cell_type": "code",
   "execution_count": 8,
   "id": "4ac996bd-bef7-4286-89ca-e9e7699f5870",
   "metadata": {
    "tags": []
   },
   "outputs": [
    {
     "data": {
      "text/plain": [
       "17"
      ]
     },
     "execution_count": 8,
     "metadata": {},
     "output_type": "execute_result"
    }
   ],
   "source": [
    "# This a simple arithmetic expression to mutiply then add integers\n",
    "(3*4)+5"
   ]
  },
  {
   "cell_type": "code",
   "execution_count": 7,
   "id": "c5721b1d-49c0-482d-a4a9-33b887e0fd35",
   "metadata": {
    "tags": []
   },
   "outputs": [
    {
     "data": {
      "text/plain": [
       "3.3333333333333335"
      ]
     },
     "execution_count": 7,
     "metadata": {},
     "output_type": "execute_result"
    }
   ],
   "source": [
    "# This will convert 200 minutes to hours by diving by 60\n",
    "200/60"
   ]
  },
  {
   "cell_type": "markdown",
   "id": "6b836238-8ae2-4ab9-a225-eea4da29f156",
   "metadata": {},
   "source": [
    "## Author\n",
    "KB"
   ]
  },
  {
   "cell_type": "code",
   "execution_count": null,
   "id": "198aeba8-2796-4c17-8488-0a13ff2f1661",
   "metadata": {},
   "outputs": [],
   "source": []
  }
 ],
 "metadata": {
  "kernelspec": {
   "display_name": "Python 3 (ipykernel)",
   "language": "python",
   "name": "python3"
  },
  "language_info": {
   "codemirror_mode": {
    "name": "ipython",
    "version": 3
   },
   "file_extension": ".py",
   "mimetype": "text/x-python",
   "name": "python",
   "nbconvert_exporter": "python",
   "pygments_lexer": "ipython3",
   "version": "3.11.5"
  }
 },
 "nbformat": 4,
 "nbformat_minor": 5
}
